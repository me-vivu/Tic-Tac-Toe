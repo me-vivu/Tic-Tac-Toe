{
  "nbformat": 4,
  "nbformat_minor": 0,
  "metadata": {
    "colab": {
      "provenance": []
    },
    "kernelspec": {
      "name": "python3",
      "display_name": "Python 3"
    },
    "language_info": {
      "name": "python"
    }
  },
  "cells": [
    {
      "cell_type": "code",
      "source": [
        "import time"
      ],
      "metadata": {
        "id": "LyQjcU-Khvuo"
      },
      "execution_count": null,
      "outputs": []
    },
    {
      "cell_type": "code",
      "execution_count": null,
      "metadata": {
        "id": "06Hv0LuUtmdZ"
      },
      "outputs": [],
      "source": [
        "import random\n",
        "\n",
        "\n",
        "def print_board(board):\n",
        "    for row in board:\n",
        "        print(\" \".join(row))\n",
        "    print()\n",
        "\n",
        "def check_winner(board, player):\n",
        "    for i in range(3):\n",
        "        if all(board[i][j] == player for j in range(3)) or all(board[j][i] == player for j in range(3)):\n",
        "            return True\n",
        "    if all(board[i][i] == player for i in range(3)) or all(board[i][2 - i] == player for i in range(3)):\n",
        "        return True\n",
        "    return False\n",
        "\n",
        "def is_board_full(board):\n",
        "    return all(board[i][j] != ' ' for i in range(3) for j in range(3))"
      ]
    },
    {
      "cell_type": "code",
      "source": [
        "def minimax(board, depth, is_maximizing):\n",
        "    if check_winner(board, 'X'):\n",
        "        return 1\n",
        "    if check_winner(board, 'O'):\n",
        "        return -1\n",
        "    if is_board_full(board):\n",
        "        return 0\n",
        "\n",
        "    if is_maximizing:\n",
        "        max_eval = float('-inf')\n",
        "        for i in range(3):\n",
        "            for j in range(3):\n",
        "                if board[i][j] == ' ':\n",
        "                    board[i][j] = 'X'\n",
        "                    eval = minimax(board, depth + 1, False)\n",
        "                    board[i][j] = ' '\n",
        "                    max_eval = max(max_eval, eval)\n",
        "        return max_eval\n",
        "    else:\n",
        "        min_eval = float('inf')\n",
        "        for i in range(3):\n",
        "            for j in range(3):\n",
        "                if board[i][j] == ' ':\n",
        "                    board[i][j] = 'O'\n",
        "                    eval = minimax(board, depth + 1, True)\n",
        "                    board[i][j] = ' '\n",
        "                    min_eval = min(min_eval, eval)\n",
        "        return min_eval"
      ],
      "metadata": {
        "id": "qrcWzySAuWof"
      },
      "execution_count": null,
      "outputs": []
    },
    {
      "cell_type": "code",
      "source": [
        "def minimax(board, depth, is_maximizing, alpha, beta):\n",
        "    if check_winner(board, 'X'):\n",
        "        return 1\n",
        "    if check_winner(board, 'O'):\n",
        "        return -1\n",
        "    if is_board_full(board):\n",
        "        return 0\n",
        "\n",
        "    if is_maximizing:\n",
        "        max_eval = float('-inf')\n",
        "        for i in range(3):\n",
        "            for j in range(3):\n",
        "                if board[i][j] == ' ':\n",
        "                    board[i][j] = 'X'\n",
        "                    eval = minimax(board, depth + 1, False, alpha, beta)\n",
        "                    board[i][j] = ' '\n",
        "                    max_eval = max(max_eval, eval)\n",
        "                    alpha = max(alpha, eval)\n",
        "                    if beta <= alpha:\n",
        "                        break\n",
        "        return max_eval\n",
        "    else:\n",
        "        min_eval = float('inf')\n",
        "        for i in range(3):\n",
        "            for j in range(3):\n",
        "                if board[i][j] == ' ':\n",
        "                    board[i][j] = 'O'\n",
        "                    eval = minimax(board, depth + 1, True, alpha, beta)\n",
        "                    board[i][j] = ' '\n",
        "                    min_eval = min(min_eval, eval)\n",
        "                    beta = min(beta, eval)\n",
        "                    if beta <= alpha:\n",
        "                        break\n",
        "        return min_eval\n"
      ],
      "metadata": {
        "id": "w3U8wio6e2de"
      },
      "execution_count": null,
      "outputs": []
    },
    {
      "cell_type": "code",
      "source": [
        "def best_move(board):\n",
        "    best_eval = float('-inf')\n",
        "    best_move = (-1, -1)\n",
        "    alpha = float('-inf')\n",
        "    beta = float('inf')\n",
        "\n",
        "    for i in range(3):\n",
        "        for j in range(3):\n",
        "            if board[i][j] == ' ':\n",
        "                board[i][j] = 'X'\n",
        "                move_eval = minimax(board, 0, False, alpha, beta)\n",
        "                #move_eval = minimax(board, 0, False)\n",
        "                board[i][j] = ' '\n",
        "                if move_eval > best_eval:\n",
        "                    best_eval = move_eval\n",
        "                    best_move = (i, j)\n",
        "\n",
        "    return best_move\n"
      ],
      "metadata": {
        "id": "XfOSQWWluSBX"
      },
      "execution_count": null,
      "outputs": []
    },
    {
      "cell_type": "code",
      "source": [
        "def play_game():\n",
        "    board = [[' ' for _ in range(3)] for _ in range(3)]\n",
        "    current_player = 'O'\n",
        "\n",
        "    while True:\n",
        "        print_board(board)\n",
        "\n",
        "        if current_player == 'X':\n",
        "            print(\"Computer's Turn (X)\")\n",
        "            start_time = time.time()\n",
        "            i, j = best_move(board)\n",
        "            end_time = time.time()\n",
        "            print(\"time taken is : \", end_time - start_time)\n",
        "        else:\n",
        "            print(\"Your Turn (O)\")\n",
        "            i, j = map(int, input(\"Enter row and column (0-2) separated by a space: \").split())\n",
        "\n",
        "        if board[i][j] == ' ':\n",
        "            board[i][j] = current_player\n",
        "\n",
        "            if check_winner(board, current_player):\n",
        "                print_board(board)\n",
        "                if current_player == 'X':\n",
        "                    print(\"Computer wins!\")\n",
        "                else:\n",
        "                    print(\"You win!\")\n",
        "                break\n",
        "\n",
        "            if is_board_full(board):\n",
        "                print_board(board)\n",
        "                print(\"It's a draw!\")\n",
        "                break\n",
        "\n",
        "            current_player = 'X' if current_player == 'O' else 'O'\n",
        "        else:\n",
        "            print(\"Invalid move. Try again.\")"
      ],
      "metadata": {
        "id": "_QMubfsouP0p"
      },
      "execution_count": null,
      "outputs": []
    },
    {
      "cell_type": "code",
      "source": [
        "if __name__ == \"__main__\":\n",
        "    play_game()"
      ],
      "metadata": {
        "colab": {
          "base_uri": "https://localhost:8080/"
        },
        "id": "gbCKOrxktphe",
        "outputId": "76483fbf-3d95-4adc-a985-267c94d68b18"
      },
      "execution_count": null,
      "outputs": [
        {
          "output_type": "stream",
          "name": "stdout",
          "text": [
            "     \n",
            "     \n",
            "     \n",
            "\n",
            "Your Turn (O)\n",
            "Enter row and column (0-2) separated by a space: 0 0\n",
            "O    \n",
            "     \n",
            "     \n",
            "\n",
            "Computer's Turn (X)\n",
            "time taken is :  0.7778761386871338\n",
            "O    \n",
            "  X  \n",
            "     \n",
            "\n",
            "Your Turn (O)\n",
            "Enter row and column (0-2) separated by a space: 2 0\n",
            "O    \n",
            "  X  \n",
            "O    \n",
            "\n",
            "Computer's Turn (X)\n",
            "time taken is :  0.03149294853210449\n",
            "O    \n",
            "X X  \n",
            "O    \n",
            "\n",
            "Your Turn (O)\n",
            "Enter row and column (0-2) separated by a space: 1 2\n",
            "O    \n",
            "X X O\n",
            "O    \n",
            "\n",
            "Computer's Turn (X)\n",
            "time taken is :  0.0013761520385742188\n",
            "O X  \n",
            "X X O\n",
            "O    \n",
            "\n",
            "Your Turn (O)\n",
            "Enter row and column (0-2) separated by a space: 2 1\n",
            "O X  \n",
            "X X O\n",
            "O O  \n",
            "\n",
            "Computer's Turn (X)\n",
            "time taken is :  0.00014209747314453125\n",
            "O X  \n",
            "X X O\n",
            "O O X\n",
            "\n",
            "Your Turn (O)\n",
            "Enter row and column (0-2) separated by a space: 0 2\n",
            "O X O\n",
            "X X O\n",
            "O O X\n",
            "\n",
            "It's a draw!\n"
          ]
        }
      ]
    },
    {
      "cell_type": "code",
      "source": [
        "if __name__ == \"__main__\":\n",
        "    play_game()"
      ],
      "metadata": {
        "id": "lLiUnGpl1cFY",
        "colab": {
          "base_uri": "https://localhost:8080/"
        },
        "outputId": "a83645c0-729f-44a9-ab1e-0606b42ba5f1"
      },
      "execution_count": null,
      "outputs": [
        {
          "output_type": "stream",
          "name": "stdout",
          "text": [
            "     \n",
            "     \n",
            "     \n",
            "\n",
            "Your Turn (O)\n",
            "Enter row and column (0-2) separated by a space: 0 0\n",
            "O    \n",
            "     \n",
            "     \n",
            "\n",
            "Computer's Turn (X)\n",
            "time taken is :  0.17412757873535156\n",
            "O    \n",
            "  X  \n",
            "     \n",
            "\n",
            "Your Turn (O)\n",
            "Enter row and column (0-2) separated by a space: 2 0\n",
            "O    \n",
            "  X  \n",
            "O    \n",
            "\n",
            "Computer's Turn (X)\n",
            "time taken is :  0.01534891128540039\n",
            "O    \n",
            "X X  \n",
            "O    \n",
            "\n",
            "Your Turn (O)\n",
            "Enter row and column (0-2) separated by a space: 1 2\n",
            "O    \n",
            "X X O\n",
            "O    \n",
            "\n",
            "Computer's Turn (X)\n",
            "time taken is :  0.0012595653533935547\n",
            "O X  \n",
            "X X O\n",
            "O    \n",
            "\n",
            "Your Turn (O)\n",
            "Enter row and column (0-2) separated by a space: 2 1\n",
            "O X  \n",
            "X X O\n",
            "O O  \n",
            "\n",
            "Computer's Turn (X)\n",
            "time taken is :  9.250640869140625e-05\n",
            "O X  \n",
            "X X O\n",
            "O O X\n",
            "\n",
            "Your Turn (O)\n",
            "Enter row and column (0-2) separated by a space: 0 2\n",
            "O X O\n",
            "X X O\n",
            "O O X\n",
            "\n",
            "It's a draw!\n"
          ]
        }
      ]
    },
    {
      "cell_type": "markdown",
      "source": [
        "The Comparison of the timing for the different algorithm\n",
        "\n",
        "(Timings are in Second)\n",
        "\n",
        "| Step Taken | Min-Max  | Alpha-Beta Pruning |\n",
        "|------------|----------|--------------------|\n",
        "| (0, 0)     | 0.777    | 0.174              |\n",
        "| (2, 0)     | 0.031    | 0.015              |\n",
        "| (1, 2)     | 0.00137  | 0.00140            |\n",
        "| (2, 1)     | 0.000142 | 0.00012            |\n",
        "\n"
      ],
      "metadata": {
        "id": "FQf5drBDlPOd"
      }
    },
    {
      "cell_type": "code",
      "source": [],
      "metadata": {
        "id": "UsgDrt7LjDGA"
      },
      "execution_count": null,
      "outputs": []
    },
    {
      "cell_type": "code",
      "source": [],
      "metadata": {
        "id": "6qG5iBlCnV2I"
      },
      "execution_count": null,
      "outputs": []
    }
  ]
}